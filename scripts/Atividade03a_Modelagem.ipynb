{
 "cells": [
  {
   "cell_type": "markdown",
   "metadata": {},
   "source": [
    "<i>Alunos: Lara Destefani e Lucas Borges Pacheco</i>"
   ]
  },
  {
   "cell_type": "markdown",
   "metadata": {},
   "source": [
    "### **Modelagem de dispersão atmosférica**\n",
    "\n"
   ]
  },
  {
   "cell_type": "markdown",
   "metadata": {},
   "source": [
    "**Bibliotecas utilizadas no estudo**"
   ]
  },
  {
   "cell_type": "code",
   "execution_count": 1,
   "metadata": {},
   "outputs": [],
   "source": [
    "import os\n",
    "import numpy\n",
    "import pandas\n",
    "import warnings\n",
    "from datetime import datetime\n",
    "import matplotlib.pyplot as plt\n",
    "from windrose import WindroseAxes\n",
    "from siphon.simplewebservice.wyoming import WyomingUpperAir\n",
    "\n",
    "warnings.filterwarnings('ignore')"
   ]
  },
  {
   "cell_type": "markdown",
   "metadata": {},
   "source": [
    "**Coeficientes de dispersão**\n",
    "\n",
    "Os coeficientes de dispersão são parâmetros fundamentais na modelagem da dispersão de poluentes atmosféricos, permitindo prever a concentração espacial dos poluentes nas direções horizontal e vertical a partir de uma fonte de emissão.\n",
    "- Coeficiente σy: Representa a dispersão horizontal lateralmente ao longo da direção do vento.\n",
    "- Coeficiente σz: Representa a dispersão vertical, sendo afetado pela altura da camada limite.\n",
    "\n",
    "Esses coeficientes de dispersão são derivados de medições empíricas e variam conforme as condições meteorológicas, a topografia e a natureza dos poluentes envolvidos. No presente estudo, aplicaremos a classificação de estabilidade atmosférica de Pasquill para categorizar as condições de estabilidade da atmosfera e, consequentemente, estimar os coeficientes de dispersão vertical e horizontal em relação à distância da fonte emissora. A classificação de Pasquill é utilizada em modelos para prever a concentração de poluentes em diferentes condições atmosféricas e para diferentes ambientes, urbanos ou rurais.\n",
    "\n",
    "| Classe de estabilidade | Descrição |\n",
    "| --- | --- |\n",
    "| A | Extremamente instável |\n",
    "| B | Moderadamente instável |\n",
    "| C | Levemente instável |\n",
    "| D | Atmosfera neutra |\n",
    "| E | Levemente estável |\n",
    "| F | Moderadamente estável |"
   ]
  },
  {
   "cell_type": "code",
   "execution_count": null,
   "metadata": {},
   "outputs": [],
   "source": [
    "def pasquill(ambiente,classe,x):\n",
    "    if ambiente == 'Urbano':\n",
    "        if classe in ['A','B']:\n",
    "            sigmaY = 0.32*x*(1+0.0004*x)**(-0.5)\n",
    "            sigmaZ = 0.24*x*(1+0.001*x)**(0.5)\n",
    "\n",
    "        elif classe == 'C':\n",
    "            sigmaY = 0.22*x*(1+0.0004*x)**(-0.5)\n",
    "            sigmaZ = 0.20*x\n",
    "        \n",
    "        elif classe == 'D':\n",
    "            sigmaY = 0.16*x*(1+0.0004*x)**(-0.5)\n",
    "            sigmaZ = 0.14*x*(1+0.0003*x)**(-0.5)\n",
    "\n",
    "        elif classe in ['E','F']:\n",
    "            sigmaY = 0.11*x*(1+0.0004*x)**(-0.5)\n",
    "            sigmaZ = 0.08*x*(1+0.0015*x)**(-0.5)\n",
    "        \n",
    "        print('A classe não existe!')\n",
    "\n",
    "    elif ambiente == 'Rural':\n",
    "        if classe == 'A':\n",
    "            sigmaY = 0.22*x*(1+0.0001*x)**(-0.5)\n",
    "            sigmaZ = 0.20*x\n",
    "\n",
    "        elif classe == 'B':\n",
    "            sigmaY = 0.16*x*(1+0.0001*x)**(-0.5)\n",
    "            sigmaZ = 0.12*x\n",
    "\n",
    "        elif classe == 'C':\n",
    "            sigmaY = 0.11*x*(1+0.0001*x)**(-0.5)\n",
    "            sigmaZ = 0.08*x*(1+0.0002*x)**(-0.5)\n",
    "\n",
    "        elif classe == 'D':\n",
    "            sigmaY = 0.08*x*(1+0.0001*x)**(-0.5)\n",
    "            sigmaZ = 0.06*x*(1+0.0015*x)**(-0.5)\n",
    "\n",
    "        elif classe == 'E':\n",
    "            sigmaY = 0.06*x*(1+0.0001*x)**(-0.5)\n",
    "            sigmaZ = 0.03*x*(1+0.0003*x)**(-1)\n",
    "\n",
    "        elif classe == 'F':\n",
    "            sigmaY = 0.04*x*(1+0.0001*x)**(-0.5)\n",
    "            sigmaZ = 0.016*x*(1+0.0003*x)**(-1)\n",
    "\n",
    "        print('A classe não existe!')\n",
    "        \n",
    "    else:\n",
    "        print('O ambiente não se enquadra em urbano ou rural')\n",
    "\n",
    "    return sigmaY, sigmaZ"
   ]
  },
  {
   "cell_type": "markdown",
   "metadata": {},
   "source": [
    "**Estimativa de sobrelevação**\n",
    "\n",
    "A altura efetiva da pluma de uma chaminé (H) refere-se à altura total em que os poluentes são liberados na atmosfera. Esta altura considera tanto a altura física da chaminé (h) quanto a elevação adicional causada pela velocidade e temperatura dos gases emitidos (Δh). A partir dessa altura, a pluma começa a se dispersar.\n",
    "\n",
    "***H = h + Δh***\n",
    "\n",
    "O cálculo da altura de sobrelevação da pluma pode ser realizado utilizando diferentes modelos, dependendo das condições específicas de emissão e do ambiente. Neste estudo, foram empregados três métodos distintos, levando em conta o efeito tip-downwash."
   ]
  },
  {
   "cell_type": "markdown",
   "metadata": {},
   "source": [
    "*Método de Davidson-Bryant*"
   ]
  },
  {
   "cell_type": "code",
   "execution_count": null,
   "metadata": {},
   "outputs": [],
   "source": [
    "def davidsonBryant(d,Vs,u,deltaT,Ts):\n",
    "    deltaH = d*((Vs/u)**(1,4))*(1+(deltaT/Ts))\n",
    "    return deltaH"
   ]
  },
  {
   "cell_type": "markdown",
   "metadata": {},
   "source": [
    "*Método de Holland*"
   ]
  },
  {
   "cell_type": "code",
   "execution_count": null,
   "metadata": {},
   "outputs": [],
   "source": [
    "#Considera-se aumento e redução da altura para as diferentes condições de estabilidade atmosférica de Pasquill.\n",
    "def holland(classe, d,Vs,u,deltaT,Ts,p):\n",
    "    deltaH = (d*Vs/u)*(1,5+2,68*(10**(-3))*p*deltaT*d/Ts)\n",
    "\n",
    "    #Condições instáveis\n",
    "    if classe in ['A','B','C']: \n",
    "        deltaH = 1,15*deltaH\n",
    "\n",
    "    #Condições estáveis\n",
    "    elif classe in ['E','F']:\n",
    "        deltaH = 0,85*deltaH\n",
    "\n",
    "    #Condições neutras\n",
    "    elif classe == 'D':\n",
    "        deltaH = deltaH\n",
    "\n",
    "    return deltaH"
   ]
  },
  {
   "cell_type": "markdown",
   "metadata": {},
   "source": [
    "*Método de Briggs*"
   ]
  },
  {
   "cell_type": "code",
   "execution_count": null,
   "metadata": {},
   "outputs": [],
   "source": [
    "def briggs(classe, d,Vs,u,deltaT,Ts,p):"
   ]
  },
  {
   "cell_type": "markdown",
   "metadata": {},
   "source": [
    "**Efeito Tip-Downwash**\n",
    "\n",
    "O efeito tip-downwash ocorre quando o fluxo de ar quente dos gases emitidos pela chaminé entra em contato com o ar ambiente mais frio e estável ao redor, resultando em turbulência na ponta da estrutura. Essa turbulência pode induzir um movimento descendente do ar próximo à extremidade da chaminé, direcionando a pluma em direção ao solo. Isso reduz a altura efetiva da emissão e tem um impacto significativo na dispersão dos poluentes na atmosfera.\n",
    "\n",
    "Quando a velocidade dos gases emitidos é igual ou superior a 1,5 vezes a velocidade do vento, o efeito tip-downwash geralmente não é relevante. No entanto, se a velocidade de saída for menor, uma altura de chaminé reduzida (h) pode ser calculada usando a equação abaixo."
   ]
  },
  {
   "cell_type": "code",
   "execution_count": null,
   "metadata": {},
   "outputs": [],
   "source": [
    "def tipDownwash(Vs,u,h,d,Ts,deltaT):\n",
    "    if Vs > 1.5*u:\n",
    "        deltaH = davidsonBryant(d,Vs,u,deltaT,Ts)  #Variar método de cálculo\n",
    "        H = deltaH + h\n",
    "        print('A pluma subiu!')\n",
    "    else:\n",
    "        h = h + 2*d*((Vs/u)-1.5)\n",
    "        H = deltaH + h\n",
    "        print('A pluma caiu!')\n",
    "\n",
    "    return H"
   ]
  },
  {
   "cell_type": "markdown",
   "metadata": {},
   "source": [
    "----"
   ]
  },
  {
   "cell_type": "markdown",
   "metadata": {},
   "source": [
    "**Modelo Gaussiano**\n",
    "\n",
    "O modelo Guaissiano é um modelo de dispersão atmosférica em que a concentração dos poluentes segue uma distribuição normal tanto na direção horizontal quanto na vertical. A função do modelo Gaussiano para a concentração de poluentes em um determinado ponto no espaço a partir de um fonte de emissão é expressa pela equação abaixo"
   ]
  },
  {
   "attachments": {
    "image.png": {
     "image/png": "[encoded data removed]"
    }
   },
   "cell_type": "markdown",
   "metadata": {},
   "source": [
    "![image.png](attachment:image.png)"
   ]
  },
  {
   "cell_type": "markdown",
   "metadata": {},
   "source": [
    "Q: taxa de emissão de poluentes (massa por unidade de tempo)\n",
    "\n",
    "u: velocidade média do vento na direção x.\n",
    "\n",
    "H: altura da fonte de emissão\n",
    "\n",
    "h: altura da chaminé\n",
    "\n",
    "deltaH = altura da fonte de emissão 0 altura da chaminé\n"
   ]
  },
  {
   "cell_type": "markdown",
   "metadata": {},
   "source": [
    "*h*: Altura geométrica da chaminé (m)\n",
    "\n",
    "*Δh*: Altura de sobrelevação da pluma (m)\n",
    "\n",
    "*H*: Altura total efetiva (m)\n",
    "\n",
    "*d*: Diâmetro interno da chaminé (m)\n",
    "\n",
    "*Vs*: Velocidade do efluente na saída da chaminé (m/s)\n",
    "\n",
    "*u*: Velocidade média do vento, medida ou calculada na altura da chaminé (m/s)\n",
    "\n",
    "*ΔT*: Temperatura do gás na chaminé menos a temperatura ambiente (K)\n",
    "\n",
    "*Ts*: Temperatura do gás na saída da chaminé (K)\n",
    "\n",
    "*p*: Presão atmosférica (mb)"
   ]
  },
  {
   "cell_type": "code",
   "execution_count": null,
   "metadata": {},
   "outputs": [],
   "source": [
    "def modeloGaussiano(qs,sigmaY,sigmaZ,u,y,z,H):\n",
    "    term1 = qs/(2*numpy.pi*sigmaY*sigmaZ*u)\n",
    "    term2 = numpy.exp((-(y)**2)/(2*(sigmaY)**2))\n",
    "    term3 = numpy.exp((-(z-H)**2)/(2*(sigmaZ)**2)) + numpy.exp((-(z+H)**2)/(2*(sigmaZ)**2))\n",
    "    result = term1*term2*term3\n",
    "    return result*(10**6)"
   ]
  },
  {
   "cell_type": "code",
   "execution_count": null,
   "metadata": {},
   "outputs": [],
   "source": [
    "x = numpy.linspace(-100,1000,500)\n",
    "y = numpy.linspace(-100,1000,500)\n",
    "xx,yy = numpy.meshgrid(x,y)"
   ]
  },
  {
   "cell_type": "code",
   "execution_count": null,
   "metadata": {},
   "outputs": [],
   "source": [
    "qs = 100 #g/s\n",
    "u = 10 #m/s\n",
    "y = 0 #direção do vento\n",
    "z = 1.5 #m\n",
    "hg = 150 #m\n",
    "sigmaY = 10 #m\n",
    "sigmaZ = 15 #m\n",
    "classe = 'A'\n",
    "type = 'urbano'\n",
    "d = 1 #m\n",
    "vs = 15 #m/s\n",
    "Ts = 300 #K\n",
    "Tamb = 293 #K"
   ]
  },
  {
   "cell_type": "code",
   "execution_count": null,
   "metadata": {},
   "outputs": [],
   "source": [
    "sigmaY, sigmaZ = dispersion(xx,classe,type)\n",
    "deltaH = height_effectiv(d,vs,u,Ts,Tamb)\n",
    "results = modeloGaussiano(qs,sigmaY,sigmaZ,u,yy,z,hef)\n",
    "results"
   ]
  },
  {
   "cell_type": "markdown",
   "metadata": {},
   "source": [
    "**Simulações**\n",
    "\n",
    "Realizar simulações com o script criado, utilizando diferentes classes de estabilidade, velocidades do vento, alturas de chaminé. Considere a taxa de emissão que você estimou na primeira atividade. Encontre a altura de chaminé necessária para que as concentrações não violem os padrões da Resolução CONAMA 491.\n"
   ]
  },
  {
   "cell_type": "code",
   "execution_count": null,
   "metadata": {},
   "outputs": [],
   "source": []
  },
  {
   "cell_type": "markdown",
   "metadata": {},
   "source": [
    "#Chamar funções no codigo para varias simulações\n",
    "#Variar as funções de sobreelvação da plu,a\n",
    "#Variar os dados de entrada do pasquil\n",
    "#variar blabla"
   ]
  },
  {
   "cell_type": "code",
   "execution_count": null,
   "metadata": {},
   "outputs": [],
   "source": []
  },
  {
   "cell_type": "markdown",
   "metadata": {},
   "source": [
    "Faça figuras e discuta os resultados."
   ]
  },
  {
   "cell_type": "code",
   "execution_count": null,
   "metadata": {},
   "outputs": [],
   "source": []
  },
  {
   "cell_type": "markdown",
   "metadata": {},
   "source": [
    "*1. Primeira simulação*"
   ]
  },
  {
   "cell_type": "markdown",
   "metadata": {},
   "source": [
    "*2.Segunda simulação*"
   ]
  },
  {
   "cell_type": "markdown",
   "metadata": {},
   "source": [
    "*3. Terceira simulação*"
   ]
  }
 ],
 "metadata": {
  "kernelspec": {
   "display_name": "Python 3",
   "language": "python",
   "name": "python3"
  },
  "language_info": {
   "codemirror_mode": {
    "name": "ipython",
    "version": 3
   },
   "file_extension": ".py",
   "mimetype": "text/x-python",
   "name": "python",
   "nbconvert_exporter": "python",
   "pygments_lexer": "ipython3",
   "version": "3.11.0"
  }
 },
 "nbformat": 4,
 "nbformat_minor": 2
}
