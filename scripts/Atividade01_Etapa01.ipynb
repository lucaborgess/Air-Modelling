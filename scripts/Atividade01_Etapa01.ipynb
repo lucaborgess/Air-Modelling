{
 "cells": [
  {
   "cell_type": "code",
   "execution_count": 77,
   "id": "0a4dd235",
   "metadata": {},
   "outputs": [],
   "source": [
    "import os\n",
    "import pandas\n",
    "import numpy\n",
    "import math\n",
    "import matplotlib.pyplot as plt"
   ]
  },
  {
   "cell_type": "markdown",
   "id": "e9473191",
   "metadata": {},
   "source": [
    "##### **Tipos de dados**\n",
    "**Dados númericos**"
   ]
  },
  {
   "cell_type": "code",
   "execution_count": 10,
   "id": "c93cd789",
   "metadata": {},
   "outputs": [
    {
     "name": "stdout",
     "output_type": "stream",
     "text": [
      "Valor da variável a: 1 ( <class 'int'>). \n",
      "Valor da variável b: 1.0 (<class 'float'>). \n",
      "Valor da variável c: 1 (<class 'int'>).\n"
     ]
    }
   ],
   "source": [
    "a = 1\n",
    "b = 1.0\n",
    "c = int(b)\n",
    "\n",
    "print(f'Valor da variável a: {a} ( {type(a)}). \\nValor da variável b: {b} ({type(b)}). \\nValor da variável c: {c} ({type(c)}).')"
   ]
  },
  {
   "cell_type": "markdown",
   "id": "e8b0fb46",
   "metadata": {},
   "source": [
    "<i>Operações com Not a number (NaN)</i>"
   ]
  },
  {
   "cell_type": "code",
   "execution_count": 17,
   "id": "4489ec98",
   "metadata": {},
   "outputs": [
    {
     "name": "stdout",
     "output_type": "stream",
     "text": [
      "Valor da variável d: nan ( <class 'float'>).\n",
      "Multiplicação por escalar: nan \n",
      "Soma com escalar: nan \n",
      "Soma pelo Numpy: 1.0\n"
     ]
    }
   ],
   "source": [
    "d = numpy.nan\n",
    "print(f'Valor da variável d: {d} ( {type(d)}).')\n",
    "print(f'Multiplicação por escalar: {d*1} \\nSoma com escalar: {d+1} \\nSoma pelo Numpy: {numpy.nansum([d,1])}')"
   ]
  },
  {
   "cell_type": "markdown",
   "id": "c5e86feb",
   "metadata": {},
   "source": [
    "**Strings**"
   ]
  },
  {
   "cell_type": "code",
   "execution_count": 21,
   "id": "dc382ade",
   "metadata": {},
   "outputs": [
    {
     "name": "stdout",
     "output_type": "stream",
     "text": [
      "Fábio e Gabriel. \n",
      "Soma de strings: FábioGabriel.\n",
      "Soma de strings: Fábio Gabriel.\n"
     ]
    }
   ],
   "source": [
    "f = 'Fábio'\n",
    "g = 'Gabriel'\n",
    "print(f'{f} e {g}. \\nSoma de strings: {f + g}.\\nSoma de strings: {f} {g}.')"
   ]
  },
  {
   "cell_type": "markdown",
   "id": "7a264413",
   "metadata": {},
   "source": [
    "**Booleanos**\n",
    "\n",
    "<i>Valores booleanos: True or False</i>"
   ]
  },
  {
   "cell_type": "code",
   "execution_count": 24,
   "id": "fa86978c",
   "metadata": {},
   "outputs": [
    {
     "name": "stdout",
     "output_type": "stream",
     "text": [
      "Valor booleano da variável h: True ( <class 'bool'>).\n",
      "Valor booleano da variável h: False ( <class 'bool'>).\n"
     ]
    }
   ],
   "source": [
    "a == 1\n",
    "a == 1\n",
    "x = (a==1)\n",
    "y = (a==2)\n",
    "\n",
    "print(f'Valor booleano da variável h: {x} ( {type(x)}).')\n",
    "print(f'Valor booleano da variável h: {y} ( {type(y)}).')"
   ]
  },
  {
   "cell_type": "markdown",
   "id": "d40d8881",
   "metadata": {},
   "source": [
    "<i>Diferença entre armazenamento de booleanos ou strings</i>"
   ]
  },
  {
   "cell_type": "code",
   "execution_count": 25,
   "id": "070a0a06",
   "metadata": {},
   "outputs": [
    {
     "name": "stdout",
     "output_type": "stream",
     "text": [
      "<class 'bool'>\n",
      "<class 'str'>\n"
     ]
    }
   ],
   "source": [
    "i = True\n",
    "ii = 'True'\n",
    "print(type(i))\n",
    "print(type(ii))"
   ]
  },
  {
   "cell_type": "markdown",
   "id": "6e0b3953",
   "metadata": {},
   "source": [
    "<i>Booleanos em operações matemáticas</i>"
   ]
  },
  {
   "cell_type": "code",
   "execution_count": 27,
   "id": "3e207f3b",
   "metadata": {},
   "outputs": [
    {
     "name": "stdout",
     "output_type": "stream",
     "text": [
      "True\n",
      "False\n",
      "False\n",
      "True\n"
     ]
    }
   ],
   "source": [
    "print(a==b)\n",
    "print(a!=b)\n",
    "print(a>b)\n",
    "print(a>=b)"
   ]
  },
  {
   "cell_type": "markdown",
   "id": "619e87e6",
   "metadata": {},
   "source": [
    "##### **Operações Matemáticas**\n",
    "\n",
    "É recomendado não usar os caracteres <i>'l', 'O' ou 'I'</i> como nomes de variáveis, pois podem ser confundidos com os números um e zero."
   ]
  },
  {
   "cell_type": "code",
   "execution_count": 44,
   "id": "3ac2cf05",
   "metadata": {},
   "outputs": [
    {
     "name": "stdout",
     "output_type": "stream",
     "text": [
      "Soma de valores númericos: 2.0\n",
      "Soma de valores númericos: 2.0\n",
      "Multiplicação de valores númericos: 1.0\n",
      "Divisão de valores númericos: 1.0\n",
      "Potência de valores númericos: 125.0\n"
     ]
    }
   ],
   "source": [
    "print(f'Soma de valores númericos: {a+b}')\n",
    "ab = a + b\n",
    "j = a*b\n",
    "k = a/b\n",
    "m = 5**3\n",
    "\n",
    "print(f'Soma de valores númericos: {ab}')\n",
    "print(f'Multiplicação de valores númericos: {j}')\n",
    "print(f'Divisão de valores númericos: {k}')\n",
    "print(f'Potência de valores númericos: {m :.1f}')\n"
   ]
  },
  {
   "cell_type": "markdown",
   "id": "c5078802",
   "metadata": {},
   "source": [
    "<i>Biblioteca de suporte Math</i> "
   ]
  },
  {
   "cell_type": "code",
   "execution_count": 52,
   "id": "edd112a0",
   "metadata": {},
   "outputs": [
    {
     "name": "stdout",
     "output_type": "stream",
     "text": [
      "22026.47\n",
      "1.0\n",
      "2.72\n",
      "0.0\n",
      "-----\n",
      "0.0\n",
      "2.0\n"
     ]
    }
   ],
   "source": [
    "#Calculate the exponential function of various numbers using 'e' as the base\n",
    "print(round(math.exp(10),2))\n",
    "print(round(math.exp(0),2))\n",
    "print(round(math.exp(a),2))\n",
    "print(round(math.exp(-10),2))\n",
    "print(5*'-')\n",
    "#Calculate the log function \n",
    "print(round(math.log(c),2))\n",
    "print(round(math.log10(100),2))"
   ]
  },
  {
   "cell_type": "markdown",
   "id": "e50c642f",
   "metadata": {},
   "source": [
    "##### **Listas**"
   ]
  },
  {
   "cell_type": "code",
   "execution_count": 65,
   "id": "1571ea01",
   "metadata": {},
   "outputs": [
    {
     "name": "stdout",
     "output_type": "stream",
     "text": [
      "Tamanho da lista: 6\n",
      "Primeiro elemento: 1\n",
      "Último elemento: a\n"
     ]
    },
    {
     "data": {
      "text/plain": [
       "[1, 2, True, 4, 5, 'a']"
      ]
     },
     "execution_count": 65,
     "metadata": {},
     "output_type": "execute_result"
    }
   ],
   "source": [
    "list = [1,2,True,4,5,'a']\n",
    "print(f'Tamanho da lista: {len(list)}')\n",
    "print(f'Primeiro elemento: {list[0]}')\n",
    "print(f'Último elemento: {list[-1]}')\n",
    "list"
   ]
  },
  {
   "cell_type": "markdown",
   "id": "ff1414be",
   "metadata": {},
   "source": [
    "<i>Verificação Booleana</i>"
   ]
  },
  {
   "cell_type": "code",
   "execution_count": 62,
   "id": "18e43dda",
   "metadata": {},
   "outputs": [
    {
     "name": "stdout",
     "output_type": "stream",
     "text": [
      "False\n",
      "True\n"
     ]
    }
   ],
   "source": [
    "print(list == a)\n",
    "print(list[0] == a)"
   ]
  },
  {
   "cell_type": "markdown",
   "id": "695ec86a",
   "metadata": {},
   "source": [
    "<i>Tipagem em listas</i>"
   ]
  },
  {
   "cell_type": "code",
   "execution_count": 73,
   "id": "60c6e538",
   "metadata": {},
   "outputs": [
    {
     "name": "stdout",
     "output_type": "stream",
     "text": [
      "<class 'list'>\n",
      "0ª Elemento: <class 'int'>\n",
      "1ª Elemento: <class 'int'>\n",
      "2ª Elemento: <class 'str'>\n"
     ]
    },
    {
     "data": {
      "text/plain": [
       "[1, 1, 'c']"
      ]
     },
     "execution_count": 73,
     "metadata": {},
     "output_type": "execute_result"
    }
   ],
   "source": [
    "list2 = [1,a,'c']\n",
    "print(type(list2))\n",
    "for i in range(len(list2)):\n",
    "    print(f'{i}ª Elemento: {type(list2[i])}')\n",
    "list2"
   ]
  },
  {
   "cell_type": "markdown",
   "id": "8f2404be",
   "metadata": {},
   "source": [
    "##### **Filepaths**"
   ]
  },
  {
   "cell_type": "code",
   "execution_count": 79,
   "id": "b79cdcbc",
   "metadata": {},
   "outputs": [
    {
     "name": "stdout",
     "output_type": "stream",
     "text": [
      "c:/Users/Hydroinfo/Documents/Scripts/Modelling_air/Air-Modelling\n",
      "c:\\Users\\Hydroinfo\\Documents\\Scripts\\Modelling_air\\Air-Modelling\n"
     ]
    }
   ],
   "source": [
    "filepath = 'c:/Users/Hydroinfo/Documents/Scripts/Modelling_air/Air-Modelling'\n",
    "filepath_r = r'c:\\Users\\Hydroinfo\\Documents\\Scripts\\Modelling_air\\Air-Modelling'\n",
    "print(filepath)\n",
    "print(filepath_r)"
   ]
  },
  {
   "cell_type": "markdown",
   "id": "cafcdc26",
   "metadata": {},
   "source": [
    "<i>Listagem dos arquivos no diretório especificado</i>"
   ]
  },
  {
   "cell_type": "code",
   "execution_count": 101,
   "id": "cb780942",
   "metadata": {},
   "outputs": [
    {
     "name": "stdout",
     "output_type": "stream",
     "text": [
      "['.git', '.gitignore', 'documents', 'excel', 'figures', 'rasters', 'results', 'scripts', 'shapefiles', 'venv']\n",
      ".git\n",
      "c:/Users/Hydroinfo/Documents/Scripts/Modelling_air/Air-Modelling/.git\n",
      "['config', 'description', 'FETCH_HEAD', 'HEAD', 'hooks', 'index', 'info', 'logs', 'objects', 'packed-refs', 'refs']\n",
      "Diretório atual: c:\\Users\\Hydroinfo\\Documents\\Scripts\\Modelling_air\\Air-Modelling\n"
     ]
    }
   ],
   "source": [
    "print(os.listdir(filepath))\n",
    "print(os.listdir(filepath)[0])\n",
    "print(filepath + '/' + os.listdir(filepath)[0])\n",
    "print(os.listdir(filepath + '/' + os.listdir(filepath)[0]))\n",
    "print(f'Diretório atual: {os.getcwd()}')"
   ]
  },
  {
   "cell_type": "markdown",
   "id": "7d65a99c",
   "metadata": {},
   "source": [
    "<i>Mudança de diretório</i>"
   ]
  },
  {
   "cell_type": "code",
   "execution_count": 130,
   "id": "e0bae4b4",
   "metadata": {},
   "outputs": [
    {
     "name": "stdout",
     "output_type": "stream",
     "text": [
      "c:\\Users\\Hydroinfo\\Documents\\Scripts\n",
      "['Automação Metocean', 'Extreme Values Analysis', 'Hidrology', 'Modelling_air', 'Modelo de Calibração', 'projection_3d.ipynb']\n"
     ]
    }
   ],
   "source": [
    "os.chdir(r'c:\\Users\\Hydroinfo\\Documents\\Scripts')\n",
    "new_filepath = os.getcwd()\n",
    "print(new_filepath)\n",
    "print(os.listdir(new_filepath))"
   ]
  },
  {
   "cell_type": "markdown",
   "id": "f1032526",
   "metadata": {},
   "source": [
    "<i>Criação de diretório</i>"
   ]
  },
  {
   "cell_type": "code",
   "execution_count": 128,
   "id": "bad6ccb4",
   "metadata": {},
   "outputs": [
    {
     "name": "stdout",
     "output_type": "stream",
     "text": [
      "c:\\Users\\Hydroinfo\\Documents\\Scripts\\test2\n",
      "Criando diretório...\n"
     ]
    }
   ],
   "source": [
    "new_path = os.getcwd() + '\\\\' + 'test2'\n",
    "print(new_path)\n",
    "\n",
    "if os.path.isdir(new_path):\n",
    "    print('Diretório existente!')\n",
    "    with open(new_path + '\\\\copy.txt', 'w') as file:\n",
    "        file.write(':)')\n",
    "else:\n",
    "    print('Criando diretório...')\n",
    "    os.mkdir(new_path)\n",
    "    with open(new_path + '\\\\copy.txt', 'w') as file:\n",
    "        file.write(':)')"
   ]
  },
  {
   "cell_type": "markdown",
   "id": "25048e21",
   "metadata": {},
   "source": [
    "##### **Arrays e Dataframes**"
   ]
  },
  {
   "cell_type": "markdown",
   "id": "23db812b",
   "metadata": {},
   "source": [
    "<i>Introdução aos arrays</i>"
   ]
  },
  {
   "cell_type": "code",
   "execution_count": 142,
   "id": "11fe25f7",
   "metadata": {},
   "outputs": [
    {
     "name": "stdout",
     "output_type": "stream",
     "text": [
      "<class 'numpy.ndarray'>\n",
      "Dimensões do array: (20,)\n",
      "[ 0  1  2  3  4  5  6  7  8  9 10 11 12 13 14 15 16 17 18 19]\n"
     ]
    }
   ],
   "source": [
    "list = [round(num,2) for num in range(0,20)]\n",
    "n = numpy.array(list)\n",
    "print(f'Dimensões do array: {n.shape}')\n",
    "print(f'Tipo de variável: {type(n)}')\n",
    "print(n)"
   ]
  },
  {
   "cell_type": "markdown",
   "id": "f0ec8916",
   "metadata": {},
   "source": [
    "<i>Criação de matrizes de números aleatórios</i>"
   ]
  },
  {
   "cell_type": "code",
   "execution_count": 166,
   "id": "e280ef08",
   "metadata": {},
   "outputs": [
    {
     "name": "stdout",
     "output_type": "stream",
     "text": [
      "Dimensões do array: (4, 6)\n"
     ]
    },
    {
     "data": {
      "text/plain": [
       "array([[0.19, 0.02, 0.57, 0.84, 0.66, 0.29],\n",
       "       [0.72, 0.25, 0.36, 0.74, 0.26, 0.54],\n",
       "       [0.17, 0.85, 0.94, 0.9 , 0.45, 0.89],\n",
       "       [0.04, 0.31, 0.98, 0.87, 0.24, 0.19]])"
      ]
     },
     "execution_count": 166,
     "metadata": {},
     "output_type": "execute_result"
    }
   ],
   "source": [
    "n = numpy.random.rand(4,6)\n",
    "n =  numpy.around(n,2)\n",
    "print(f'Dimensões do array: {n.shape}')\n",
    "n"
   ]
  },
  {
   "cell_type": "markdown",
   "id": "9334bee7",
   "metadata": {},
   "source": [
    "<i>Acessando arrays</i>"
   ]
  },
  {
   "cell_type": "code",
   "execution_count": 174,
   "id": "c5541406",
   "metadata": {},
   "outputs": [
    {
     "name": "stdout",
     "output_type": "stream",
     "text": [
      "1ª Coluna: [0.19 0.72 0.17 0.04]\n",
      "2ª Coluna: [0.02 0.25 0.85 0.31]\n",
      "3ª Coluna: [0.57 0.36 0.94 0.98]\n",
      "4ª Coluna: [0.84 0.74 0.9  0.87]\n",
      "5ª Coluna: [0.66 0.26 0.45 0.24]\n",
      "6ª Coluna: [0.29 0.54 0.89 0.19]\n",
      "-----\n",
      "1ª Linha: [0.19 0.02 0.57 0.84 0.66 0.29]\n",
      "2ª Linha: [0.72 0.25 0.36 0.74 0.26 0.54]\n",
      "3ª Linha: [0.17 0.85 0.94 0.9  0.45 0.89]\n",
      "4ª Linha: [0.04 0.31 0.98 0.87 0.24 0.19]\n"
     ]
    }
   ],
   "source": [
    "for c in range(n.shape[1]):\n",
    "    print(f'{c+1}ª Coluna: {n[:,c]}')\n",
    "\n",
    "print(5*'-')\n",
    "for c in range(n.shape[0]):\n",
    "    print(f'{c+1}ª Linha: {n[c,:]}')"
   ]
  },
  {
   "cell_type": "code",
   "execution_count": 185,
   "id": "4ef888a7",
   "metadata": {},
   "outputs": [
    {
     "name": "stdout",
     "output_type": "stream",
     "text": [
      "[0.19 0.02 0.57 0.84 0.66 0.29]\n",
      "-----\n",
      "[0.19 0.72 0.17 0.04]\n",
      "-----\n",
      "[[0.19 0.02]\n",
      " [0.72 0.25]\n",
      " [0.17 0.85]\n",
      " [0.04 0.31]]\n",
      "-----\n",
      "[0.04 0.31 0.98 0.87 0.24 0.19]\n",
      "-----\n",
      "0.29\n"
     ]
    }
   ],
   "source": [
    "#Resgate de linha \n",
    "print(n[0,:])\n",
    "print(5*'-')\n",
    "#Resgate de coluna \n",
    "print(n[:,0])\n",
    "print(5*'-')\n",
    "#Resgate de colunas desejadas\n",
    "print(n[:,0:2])\n",
    "print(5*'-')\n",
    "#Resgate de linhas desejadas\n",
    "print(n[-1,:])\n",
    "print(5*'-')\n",
    "#Resgate do primeiro valor da última coluna\n",
    "print(n[0,-1])"
   ]
  },
  {
   "cell_type": "markdown",
   "id": "4a06d776",
   "metadata": {},
   "source": [
    "<i>Aplicando logaritmo</i>"
   ]
  },
  {
   "cell_type": "code",
   "execution_count": 187,
   "id": "c2093a22",
   "metadata": {},
   "outputs": [
    {
     "data": {
      "text/plain": [
       "array([[-0.05, -2.3 ,  1.05,  1.44,  1.19,  0.37],\n",
       "       [ 1.28,  0.22,  0.59,  1.31,  0.26,  0.99],\n",
       "       [-0.16,  1.45,  1.55,  1.5 ,  0.81,  1.49],\n",
       "       [-1.61,  0.44,  1.59,  1.47,  0.18, -0.05]])"
      ]
     },
     "execution_count": 187,
     "metadata": {},
     "output_type": "execute_result"
    }
   ],
   "source": [
    "an = numpy.log(n*5)\n",
    "an =  numpy.around(an,2)\n",
    "an"
   ]
  }
 ],
 "metadata": {
  "kernelspec": {
   "display_name": "Python 3 (ipykernel)",
   "language": "python",
   "name": "python3"
  },
  "language_info": {
   "codemirror_mode": {
    "name": "ipython",
    "version": 3
   },
   "file_extension": ".py",
   "mimetype": "text/x-python",
   "name": "python",
   "nbconvert_exporter": "python",
   "pygments_lexer": "ipython3",
   "version": "3.11.0"
  }
 },
 "nbformat": 4,
 "nbformat_minor": 5
}
